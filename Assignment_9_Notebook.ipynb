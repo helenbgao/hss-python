{
 "cells": [
  {
   "cell_type": "markdown",
   "metadata": {},
   "source": [
    "## Homework 9 Notebook\n",
    "\n",
    "Please use this to submit the first two problems for assignment 9"
   ]
  },
  {
   "cell_type": "code",
   "execution_count": 2,
   "metadata": {},
   "outputs": [],
   "source": [
    "#---- HELEN GAO ----"
   ]
  },
  {
   "cell_type": "code",
   "execution_count": 3,
   "metadata": {},
   "outputs": [
    {
     "name": "stdout",
     "output_type": "stream",
     "text": [
      "\n",
      "spam\n",
      "a\n",
      "\n",
      "sequoi\n",
      "e\n",
      "u\n",
      "o\n",
      "i\n"
     ]
    }
   ],
   "source": [
    "# A generator expression that returns the vowels in a string\n",
    "# \n",
    "def vowel_generator(s):\n",
    "    \n",
    "    # for every character in the given string s\n",
    "    for ch in s:\n",
    "        \n",
    "        # if the character is a vowel\n",
    "        # aeiouAEIOU includes both capital and lowercase vowels\n",
    "        if ch in 'aeiouAEIOU':\n",
    "            \n",
    "            # yield the vowel\n",
    "            yield ch\n",
    "\n",
    "\n",
    "s = 'spam'\n",
    "gen = vowel_generator(s)\n",
    "print('\\n' + s)\n",
    "for ch in gen:\n",
    "    print(ch)\n",
    "\n",
    "s = 'sequoi'\n",
    "gen = vowel_generator(s)\n",
    "print('\\n' + s)\n",
    "for ch in gen:\n",
    "    print(ch)"
   ]
  },
  {
   "cell_type": "code",
   "execution_count": 4,
   "metadata": {
    "scrolled": false
   },
   "outputs": [
    {
     "name": "stdout",
     "output_type": "stream",
     "text": [
      "(8, 2)\n",
      "(8, 9)\n",
      "(8, 16)\n",
      "(8, 23)\n",
      "(8, 30)\n",
      "(9, 6)\n",
      "(9, 13)\n",
      "(9, 20)\n",
      "(9, 27)\n",
      "(10, 4)\n",
      "(10, 11)\n",
      "(10, 18)\n",
      "(10, 25)\n",
      "(11, 1)\n",
      "(11, 8)\n",
      "(11, 15)\n",
      "(11, 22)\n",
      "(11, 29)\n",
      "(12, 6)\n",
      "(12, 13)\n",
      "(12, 20)\n",
      "(12, 27)\n",
      "(1, 3)\n",
      "(1, 10)\n",
      "(1, 17)\n",
      "(1, 24)\n",
      "(1, 31)\n",
      "(2, 7)\n",
      "(2, 14)\n",
      "(2, 21)\n"
     ]
    }
   ],
   "source": [
    "# Date Generator\n",
    "#\n",
    "# Takes a starting date \n",
    "# Returns a tuple\n",
    "# Yields sequnce of dates at that interval\n",
    "#\n",
    "# Bugs: Ignores Leap Year\n",
    "# note: went to joe's thursday section where we all wrote/discussed this generator together\n",
    "#\n",
    "def next_tues(m, d):\n",
    "    \n",
    "    # use a while loop so that the generator can run forever\n",
    "    while True:\n",
    "        \n",
    "        # add seven to the day so that a week passes\n",
    "        d = d + 7\n",
    "\n",
    "        # if the month is a 31-day month and the day is past the end of the month\n",
    "        # the list doesn't include 12 since december is the last month\n",
    "        # that will be dealt with later\n",
    "        if m in [1, 3, 5, 7, 8, 10] and d > 31:\n",
    "\n",
    "            # subtract 31 from the day for the start of the new month\n",
    "            d = d - 31\n",
    "\n",
    "            # go to the next month\n",
    "            m = m + 1\n",
    "\n",
    "            # yield the new month and new date as a tuple\n",
    "            yield (m,d)\n",
    "\n",
    "        # if the month is a 30-day month and the day is past the end of the month\n",
    "        elif m in [4, 6, 9, 11] and d > 30:\n",
    "\n",
    "            # subtract 30 from the day for the start of the new month\n",
    "            d = d - 30\n",
    "\n",
    "            # go to the next month\n",
    "            m = m + 1\n",
    "\n",
    "            # yield the new month and new date as a tuple\n",
    "            yield (m,d)\n",
    "\n",
    "        # if it's february and the day is past the end of the month\n",
    "        elif m == 2 and d > 28:\n",
    "\n",
    "            # subtract 28 from the day for the start of the new month\n",
    "            d = d - 28\n",
    "\n",
    "            # go to the next month\n",
    "            m = m + 1\n",
    "\n",
    "            # yield the new month and new date as a tuple\n",
    "            yield (m,d)\n",
    "        \n",
    "        # if it's december and the day is past the end of the month\n",
    "        elif m == 12 and d > 31:\n",
    "            \n",
    "            # subtract 31 from the day for the start of the new month\n",
    "            d = d - 31\n",
    "\n",
    "            # go to january to restart the year \n",
    "            m = 1\n",
    "\n",
    "            # yield the new month and new date as a tuple\n",
    "            yield (m,d)\n",
    "\n",
    "        # if the day is still in the same month\n",
    "        else:\n",
    "            \n",
    "            # yield the month and new date\n",
    "            yield (m,d)\n",
    "\n",
    "\n",
    "\n",
    "gen = next_tues(7,26)\n",
    "for i in range(30):\n",
    "    print(next(gen))"
   ]
  },
  {
   "cell_type": "code",
   "execution_count": null,
   "metadata": {},
   "outputs": [],
   "source": []
  },
  {
   "cell_type": "markdown",
   "metadata": {},
   "source": [
    "# Unit Tests"
   ]
  },
  {
   "cell_type": "code",
   "execution_count": 5,
   "metadata": {},
   "outputs": [
    {
     "name": "stderr",
     "output_type": "stream",
     "text": [
      ".....\n",
      "----------------------------------------------------------------------\n",
      "Ran 5 tests in 0.004s\n",
      "\n",
      "OK\n"
     ]
    }
   ],
   "source": [
    "import unittest\n",
    "\n",
    "# A subclass of unittest.TestCase\n",
    "class Ass8Test(unittest.TestCase):\n",
    "\n",
    "    def test_vowel_gen_1(self):\n",
    "        gen = vowel_generator('spam')\n",
    "        nxt = next(gen)\n",
    "        self.assertEqual(nxt, 'a')\n",
    "\n",
    "    def test_vowel_gen_2(self):\n",
    "        gen = vowel_generator('spin')\n",
    "        nxt = next(gen)\n",
    "        self.assertEqual(nxt, 'i')\n",
    "\n",
    "    def test_vowel_gen_3(self):\n",
    "        gen = vowel_generator('boats')\n",
    "        a = next(gen)\n",
    "        b = next(gen)\n",
    "        self.assertEqual((a, b), ('o', 'a'))\n",
    "\n",
    "    def test_vowel_gen_4(self):\n",
    "        gen = vowel_generator('sequoia')\n",
    "        a = next(gen)\n",
    "        b = next(gen)\n",
    "        c = next(gen)\n",
    "        d = next(gen)\n",
    "        e = next(gen)\n",
    "        self.assertEqual((a, b, c, d, e), ('e', 'u', 'o', 'i', 'a'))\n",
    "\n",
    "\n",
    "    def test_next_tues_1(self):\n",
    "        gen = next_tues(2, 23)\n",
    "        nxt = next(gen)\n",
    "        self.assertEqual(nxt, (3, 2))\n",
    "        \n",
    "\n",
    "if __name__ == '__main__':\n",
    "    unittest.main(argv=['first-arg-is-ignored'], exit=False)"
   ]
  },
  {
   "cell_type": "code",
   "execution_count": null,
   "metadata": {},
   "outputs": [],
   "source": []
  }
 ],
 "metadata": {
  "kernelspec": {
   "display_name": "Python 3",
   "language": "python",
   "name": "python3"
  },
  "language_info": {
   "codemirror_mode": {
    "name": "ipython",
    "version": 3
   },
   "file_extension": ".py",
   "mimetype": "text/x-python",
   "name": "python",
   "nbconvert_exporter": "python",
   "pygments_lexer": "ipython3",
   "version": "3.6.5"
  }
 },
 "nbformat": 4,
 "nbformat_minor": 1
}
